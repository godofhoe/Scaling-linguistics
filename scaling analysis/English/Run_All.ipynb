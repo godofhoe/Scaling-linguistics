{
 "cells": [
  {
   "cell_type": "code",
   "execution_count": 2,
   "metadata": {
    "collapsed": false
   },
   "outputs": [],
   "source": [
    "import os, sys\n",
    "import traceback\n",
    "from Module.mutili import *"
   ]
  },
  {
   "cell_type": "code",
   "execution_count": 3,
   "metadata": {
    "collapsed": true
   },
   "outputs": [],
   "source": [
    "def data_list(path):\n",
    "    data_load = []\n",
    "    for i in os.listdir(path):\n",
    "        j = i.split('.')\n",
    "        if 'txt' in j:\n",
    "            data_load.append(i)\n",
    "    return data_load"
   ]
  },
  {
   "cell_type": "code",
   "execution_count": 4,
   "metadata": {
    "collapsed": false
   },
   "outputs": [
    {
     "name": "stdout",
     "output_type": "stream",
     "text": [
      "Moby-Dick.txt\n"
     ]
    }
   ],
   "source": [
    "data_path = './data' #The path of 'data' folder\n",
    "\n",
    "Text_path = data_path + '/Text/'                   #put your text here\n",
    "#----------------------------------------------------------------------\n",
    "Link_path = data_path + '/Link/'                   #the output folder of link-rank plot\n",
    "Col_path = data_path + '/Collocation/'             #the output folder of collocation-rank plot\n",
    "RRD_path = data_path + '/RRD/'                     #the output folder of RRD plot\n",
    "FRD_path = data_path + '/FRD/'                     #the output folder of FRD plot\n",
    "Geo_path = data_path + '/Geometric seq/'           #the output folder of geometric sequence plot\n",
    "SP_path = data_path + '/SP/'                       #the output document of rf plot and SP value\n",
    "fitting_path = data_path + '/fitting/'             #the output document of scaling lines fitting\n",
    "#----------------------------------------------------------------------\n",
    "Big_path = data_path + '/Statistical result/'      #the output folder of all statistical data in execl\n",
    "\n",
    "\n",
    "data_load = data_list(Text_path)\n",
    "Text_load = [Text_path + i for i in data_load]\n",
    "for i in data_load:\n",
    "    print(i)"
   ]
  },
  {
   "cell_type": "code",
   "execution_count": 5,
   "metadata": {
    "collapsed": true
   },
   "outputs": [],
   "source": [
    "#encode = \"UTF-16\" #(1)\n",
    "encode = \"UTF-8\"   #(2)\n",
    "\n",
    "def main():\n",
    "    error_list = []\n",
    "    for Q in range(len(data_load)):\n",
    "        try:\n",
    "            filename = data_load[Q]\n",
    "            name = filename.split('.')[0]\n",
    "            #----------------------------------------------------------------------\n",
    "            PATH = [Link_path, Col_path, RRD_path, FRD_path, Geo_path, SP_path, fitting_path, Big_path]\n",
    "            for P in PATH:\n",
    "                try:           \n",
    "                    os.makedirs(P)  #create the folder\n",
    "                except:\n",
    "                    print('***The folder \"%s\" already exist.' % P)\n",
    "            #----------------------------------------------------------------------\n",
    "            big, syl, word, longest = info(Text_load[Q], encode)\n",
    "            count_col(word, syl)\n",
    "            print('Successfully count collocations and links!' + '(%s)' % filename)\n",
    "            write_to_excel(big, word, syl, Big_path + name)\n",
    "            #--------------plot geometric_sequence\n",
    "            V, H = geometric_sequence(word, syl)\n",
    "            max_range = 50 #the number of elements in the sequence you want to know\n",
    "            x = 'H'\n",
    "            SP = 'T' #If you don't want to save picture, just assign SP != 'T'.\n",
    "            FORMAT = 'png' #the format of your picture\n",
    "            shift = 'N' #If you don't want to measure shift, just assign shift != 'T'.\n",
    "\n",
    "            which_plot(name, V, H, x, SP, FORMAT, max_range, shift, Geo_path)\n",
    "\n",
    "            #--------------plot RRD plot\n",
    "            need_line = 'Y'\n",
    "            number_of_lines = 4\n",
    "            Color = '#ff0000'\n",
    "            SP = 'T' #If you don't want to save picture, just assign SP != 'T'\n",
    "            FORMAT = 'png' #the format of your picture\n",
    "            #if you don't want to see RRD plot, use RRD_plot() instead of draw_RRD_plot()\n",
    "\n",
    "            RRD_plot(big, word, syl, longest, name, V, H, need_line, number_of_lines, Color, SP , FORMAT, RRD_path)\n",
    "            #--------------plot FRD plot\n",
    "            SP = 'T' #If you don't want to save picture, just assign SP != 'T'.\n",
    "            FORMAT = 'png' #the format of your picture\n",
    "            #auto positioning when (x_pos, y_pos)=(0, 0)\n",
    "            x_pos = 0\n",
    "            y_pos = 0\n",
    "\n",
    "            FRD_plot(name, word, syl, x_pos, y_pos, SP, FORMAT, FRD_path)\n",
    "            #--------------plot collocation-rank plot\n",
    "            SP = 'T' #If you don't want to save picture, just assign SP != 'T'.\n",
    "            FORMAT = 'png' #the format of your picture\n",
    "            x_pos = 0 #auto positioning = 0; otherwise change the value you want\n",
    "            y_pos = 0 #auto positioning = 0; otherwise change the value you want\n",
    "\n",
    "            Col_plot(name, syl, x_pos, y_pos, SP, FORMAT, Col_path)\n",
    "            #--------------plot link-rank plot\n",
    "            SP = 'T' #If you don't want to save picture, just assign SP != 'T'.\n",
    "            FORMAT = 'png' #the format of your picture\n",
    "            x_pos = 0 #auto positioning = 0; otherwise change the value you want\n",
    "            y_pos = 0 #auto positioning = 0; otherwise change the value you want\n",
    "\n",
    "            Link_plot(name, word, x_pos, y_pos, SP , FORMAT, Link_path)\n",
    "            \n",
    "            #--------------calculate SP and fitting scaling lines\n",
    "            SP = 'T' #If you don't want to save picture, just assign SP != 'T'.\n",
    "            FORMAT = 'png' #the format of your picture\n",
    "            \n",
    "            f, flu = Plot_f(4, V, H, big, longest, toler = 50, avg_N = 50) #If you don't need it, #it\n",
    "            Rf = rf(name, SP, FORMAT, f, SP_path)                          #If you don't need it, #it\n",
    "            fit_with_cut(flu, Rf[0], V, H, name, SP, FORMAT, fitting_path) #If you don't need it, #it \n",
    "            print('Successfully run all!' + '(%s)' % filename)\n",
    "        \n",
    "        #--------------add filename to error_list when error      \n",
    "        except Exception as exc:\n",
    "            traceback.print_exc()\n",
    "            error_list.append(data_load[Q])\n",
    "            print('')\n",
    "    if error_list != []:\n",
    "        print('The following file get error when running:')\n",
    "        for i in error_list:\n",
    "            print(i)"
   ]
  },
  {
   "cell_type": "code",
   "execution_count": 6,
   "metadata": {
    "collapsed": false
   },
   "outputs": [
    {
     "name": "stdout",
     "output_type": "stream",
     "text": [
      "read file successfully!\n",
      "Successfully count word freqency!(./data/Text/Moby-Dick.txt)\n",
      "Successfully count syl freqency!\n",
      "Successfully build data frames!\n",
      "Successfully count collocations and links!(Moby-Dick.txt)\n",
      "fitting range = [5171, 20687]\n",
      "Successfully run all!(Moby-Dick.txt)\n"
     ]
    }
   ],
   "source": [
    "main()"
   ]
  }
 ],
 "metadata": {
  "anaconda-cloud": {},
  "kernelspec": {
   "display_name": "Python [default]",
   "language": "python",
   "name": "python3"
  },
  "language_info": {
   "codemirror_mode": {
    "name": "ipython",
    "version": 3
   },
   "file_extension": ".py",
   "mimetype": "text/x-python",
   "name": "python",
   "nbconvert_exporter": "python",
   "pygments_lexer": "ipython3",
   "version": "3.5.2"
  }
 },
 "nbformat": 4,
 "nbformat_minor": 1
}
