{
 "cells": [
  {
   "cell_type": "code",
   "execution_count": 1,
   "metadata": {
    "collapsed": true
   },
   "outputs": [],
   "source": [
    "import numpy as np\n",
    "import matplotlib.pyplot as plt\n",
    "from scipy.optimize import minimize"
   ]
  },
  {
   "cell_type": "markdown",
   "metadata": {},
   "source": [
    "<br>\n",
    "<font size = 15>Fitting Zipf's law (discrete):</font>\n",
    "<br><br>\n",
    "The discrete Zipf's distribution is : <br>\n",
    "\\begin{equation}P_k=Ck^{-\\alpha}\\end{equation}\n",
    "The normalized condition gives:<br>\n",
    "\\begin{equation}1=\\sum P_k=C\\sum_{m}^{n}(\\frac{1}{k^\\alpha}) = C(\\zeta(\\alpha, m) - \\zeta(\\alpha, n+1))\\Rightarrow C=1/H(m,n,\\alpha)\\end{equation}\n",
    "Where $H(m,n,\\alpha)\\equiv \\sum_{m}^{n}\\frac{1}{k^\\alpha}=\\zeta(\\alpha, m) - \\zeta(\\alpha, n+1)$, $\\zeta(\\alpha, m)$ is Hurwitz zeta function.<br>\n",
    "\n",
    "Now give a raw data $X=[x_1,x_2,x_3...,x_N]$ where $x_i$ is the word of utterance, the likelihood is:<br>\n",
    "\\begin{equation}L=\\prod_{i=1}^{N}P(x_i|\\alpha)=\\prod_{i=1}^{k}P(y_i|\\alpha)^{\\rho(y_i)}=\\prod_{i=1}^{k}\\big[\\frac{y_i^{-\\alpha}}{H(y_1,y_k,\\alpha)}\\big]^{\\rho(y_i)}\\end{equation}\n",
    "where $Y=[y_1, y_2...,y_k]$ is a rank set of non-repeat $X$ with frequency $\\rho(y_i)$\n",
    "\n",
    "\n",
    "The maximum likelihood estimation (MLE) requires $L$ be maximum, and then $\\ln(L)$ will also be max:<br>\n",
    "\\begin{equation}0=\\frac{\\partial\\ln{L}}{\\partial \\alpha}=-\\sum_{i=1}^{k}{\\rho(y_i)\\ln{y_i}}+\\frac{N}{H(y_1,y_k,\\alpha)}\\sum_{i=1}^{k}\\frac{\\ln{(y_i)}}{y_i^{ \\alpha}}\\end{equation}\n",
    "\n",
    "However we can't solve $\\alpha$ exactly in this form. Instead, we use the minimize function in scipy:\n",
    "\\begin{equation}max(\\ln L(\\alpha))=min(-1*\\ln L(\\alpha))\\end{equation}\n",
    "\\begin{equation}\\Rightarrow \\alpha = \\alpha_1, C=1/H(y_1,y_k,\\alpha_1)\\end{equation}\n",
    "\n",
    "\n",
    "Ps. This result is better than Eq.(38) in ref 1, where use $\\zeta (y_1, \\alpha)$ instead of $H(y_1,y_k,\\alpha_1)$\n",
    "\n",
    "<ref>Reference: <br>\n",
    "1. https://arxiv.org/pdf/cond-mat/0412004.pdf Appendix.B\n",
    "2. scipy.minimize: https://www.youtube.com/watch?v=cXHvC_FGx24\n",
    "3. scipy minimize function with parameters: https://stackoverflow.com/questions/43017792/minimize-function-with-parameters\n"
   ]
  },
  {
   "cell_type": "code",
   "execution_count": 2,
   "metadata": {
    "collapsed": false
   },
   "outputs": [],
   "source": [
    "def incomplete_harmonic(x):\n",
    "    x_min = x[0]\n",
    "    x_max = x[1]\n",
    "    s = x[2]\n",
    "    P = 0\n",
    "    for k in range(int(x_min) , int(x_max) + 1):\n",
    "        P = P + 1 / (k)**s\n",
    "    return P\n",
    "\n",
    "def Zipf_law(x, s, C):\n",
    "    return C*x**(-s)"
   ]
  },
  {
   "cell_type": "code",
   "execution_count": 3,
   "metadata": {
    "collapsed": false
   },
   "outputs": [],
   "source": [
    "def Two_to_One(y):\n",
    "    Y = []\n",
    "    for i in y[0]:\n",
    "        Y.append(i)\n",
    "    for i in y[1]:\n",
    "        Y.append(i)\n",
    "    return Y\n",
    "\n",
    "def One_to_Two(Y):\n",
    "    y = [[], []]\n",
    "    length = len(Y) * 0.5\n",
    "    for i in range(int(length)):\n",
    "        y[0].append(Y[i])\n",
    "    for i in range(int(length)):\n",
    "        y[1].append(Y[i + int(length)])\n",
    "    return y\n",
    "\n",
    "\n",
    "def L_Zipf(s, Y):\n",
    "    length = int(len(Y) * 0.5)\n",
    "    ln = 0\n",
    "    for i in range(length):\n",
    "        ln = ln + Y[i + length] * np.log(Y[i])\n",
    "    y = One_to_Two(Y)\n",
    "    N = sum(y[1])\n",
    "    x = (int(min(y[0])), int(max(y[0])), s) #y[2] is exponent\n",
    "    return s * ln + N * np.log(incomplete_harmonic(x))"
   ]
  },
  {
   "cell_type": "markdown",
   "metadata": {},
   "source": [
    "<br>\n",
    "<font size = 15>What is goodness of fitting in MLE ?</font>\n",
    "<br><br>\n",
    "If we KNOW the distribution of experiment data (the error distribution) is normal distribution, the likelihood of getting the best fitting function can be written down as :\n",
    "\\begin{equation}L=\\prod_{i=1}^{k}\\frac{1}{\\sqrt{2\\pi}\\sigma_i}e^{-(y_i - g(x_i))^2/(2\\sigma_i^2)}\\end{equation}\n",
    "\n",
    "\n",
    "This likelihood is used to maximize the probability of finding the theortical vaule (fitting model $g(x_i)$) close to experiment value ($y_i$). When we apply this $L$ with MLE, we get the condition the $L=max(L)$ is :\n",
    "\\begin{equation}\\chi^2 =\\sum_{i=1}^{k}(y_i - g(x_i))^2/(2\\sigma_i^2)\\end{equation}\n",
    "should be minimized.<br>\n",
    "\n",
    "This will lead to the result in OLS(ordinary least square). However we don't know the distribution of our data, even the error bars. So we must fixed this standard of good of fitting here. The generalized case of fitting should use the likelihood we mentioned before:\n",
    "\\begin{equation}L=\\prod_{i=1}^{N}g(x_i|\\alpha)=\\prod_{i=1}^{k}g(y_i|\\alpha)^{\\rho(y_i)}\\end{equation}\n",
    "\n",
    "......(to be continue)\n",
    "\n",
    "\n",
    "<ref>Reference: <br>\n",
    "1. https://arxiv.org/pdf/1505.02016.pdf Appendix.C\n",
    "2. http://www3.stat.sinica.edu.tw/statistica/oldpdf/a16n39.pdf\n",
    "3. https://arxiv.org/vc/cond-mat/papers/0402/0402322v1.pdf\n",
    "4. https://arxiv.org/pdf/cond-mat/0402322.pdf\n",
    "5. https://cran.r-project.org/web/packages/zipfR/zipfR.pdf\n"
   ]
  },
  {
   "cell_type": "code",
   "execution_count": 4,
   "metadata": {
    "collapsed": false,
    "scrolled": false
   },
   "outputs": [
    {
     "name": "stdout",
     "output_type": "stream",
     "text": [
      "the best value of exponent is 2.770936, C is 0.814879\n"
     ]
    },
    {
     "data": {
      "image/png": "[encoded data removed]",
      "text/plain": [
       "<matplotlib.figure.Figure at 0x7fb19e8>"
      ]
     },
     "metadata": {},
     "output_type": "display_data"
    }
   ],
   "source": [
    "def main():\n",
    "    y = ([1,2,3,4,5], [100,15,5,2,1])\n",
    "    a = y\n",
    "    Y = Two_to_One(a)\n",
    "    res = minimize(L_Zipf, 1.2, Y, method = 'SLSQP')\n",
    "    s = res['x']\n",
    "    t = (int(min(y[0])), int(max(y[0])), s)\n",
    "    C = 1 / incomplete_harmonic(t)\n",
    "    print('the best value of exponent is %f, C is %f' % (s, C))\n",
    "    \n",
    "    N = sum(y[1])\n",
    "    p = [i / N for i in y[1]]\n",
    "    plt.plot(y[0], p, 'o')\n",
    "    xdata = np.linspace(min(y[0]), max(y[0]), num = (max(y[0]) - min(y[0]))*10)\n",
    "    theo = Zipf_law(xdata, s, C)\n",
    "    \n",
    "    plt.text(2.5, 0.3,'$f(x)=%fx^{-%f}$'%(C, s), fontsize=12)\n",
    "    plt.plot(xdata, theo, 'g-')\n",
    "    plt.yscale('log')\n",
    "    plt.xscale('log')\n",
    "    plt.ylabel('prob-density')\n",
    "    plt.xlabel('rank')\n",
    "    plt.show()\n",
    "    \n",
    "if __name__ == '__main__':\n",
    "    main()"
   ]
  }
 ],
 "metadata": {
  "anaconda-cloud": {},
  "kernelspec": {
   "display_name": "Python [default]",
   "language": "python",
   "name": "python3"
  },
  "language_info": {
   "codemirror_mode": {
    "name": "ipython",
    "version": 3
   },
   "file_extension": ".py",
   "mimetype": "text/x-python",
   "name": "python",
   "nbconvert_exporter": "python",
   "pygments_lexer": "ipython3",
   "version": "3.5.2"
  }
 },
 "nbformat": 4,
 "nbformat_minor": 1
}
