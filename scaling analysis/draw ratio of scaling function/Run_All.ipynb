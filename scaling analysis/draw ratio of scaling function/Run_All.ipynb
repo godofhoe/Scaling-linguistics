{
 "cells": [
  {
   "cell_type": "code",
   "execution_count": 9,
   "metadata": {
    "collapsed": false
   },
   "outputs": [],
   "source": [
    "import os, sys\n",
    "import py\n",
    "from Module.mutili import *"
   ]
  },
  {
   "cell_type": "code",
   "execution_count": 10,
   "metadata": {
    "collapsed": false
   },
   "outputs": [],
   "source": [
    "def data_list(path):\n",
    "    data_load = []\n",
    "    for i in os.listdir(path):\n",
    "        j = i.split('.')\n",
    "        if 'xlsx' or 'csv' in j:\n",
    "            data_load.append(i)\n",
    "    return data_load"
   ]
  },
  {
   "cell_type": "code",
   "execution_count": 11,
   "metadata": {
    "collapsed": false
   },
   "outputs": [
    {
     "name": "stdout",
     "output_type": "stream",
     "text": [
      "Chang Show-Foong.xlsx\n",
      "chopsticks.xlsx\n",
      "DEC16FAKE2_2.xlsx\n",
      "DEC16FAKE3_2.xlsx\n",
      "DEC16FAKE4_2.xlsx\n",
      "Demi-Gods and Semi-Devils.xlsx\n",
      "Einstein.xlsx\n",
      "Frog.xlsx\n",
      "mix.xlsx\n",
      "Moby-Dick.xlsx\n",
      "news.xlsx\n",
      "the-hoobit.xlsx\n",
      "Xu Zhimo.xlsx\n",
      "Yu Guangzhong.xlsx\n"
     ]
    }
   ],
   "source": [
    "#The path of 'data' document\n",
    "data_path = './data'\n",
    "\n",
    "EXCEL_path = data_path + '/EXCEL/'                   #put your execl here\n",
    "#----------------------------------------------------------------------\n",
    "rf_path = data_path + '/rf/'                   #the output document of rf plot\n",
    "\n",
    "\n",
    "data_load = data_list(EXCEL_path)\n",
    "EXCEL_load = [EXCEL_path + i for i in data_load]\n",
    "for i in data_load:\n",
    "    print(i)"
   ]
  },
  {
   "cell_type": "code",
   "execution_count": 12,
   "metadata": {
    "collapsed": true
   },
   "outputs": [],
   "source": [
    "def main():\n",
    "    for Q in range(len(data_load)):\n",
    "        filename = data_load[Q]\n",
    "        name = filename.split('.')[0]\n",
    "        df = read_EXCEL(filename, EXCEL_load[Q])\n",
    "        \n",
    "        \n",
    "        SP = 'T' #If you don't want to save picture, just assign SP != 'T'.\n",
    "        FORMAT = 'png' #the format of your picture\n",
    "        rf(name, SP, FORMAT, df, filename, rf_path)"
   ]
  },
  {
   "cell_type": "code",
   "execution_count": 13,
   "metadata": {
    "collapsed": false
   },
   "outputs": [
    {
     "name": "stdout",
     "output_type": "stream",
     "text": [
      "read Chang Show-Foong.xlsx successfully\n",
      "save figure successfully !\n",
      "read chopsticks.xlsx successfully\n",
      "save figure successfully !\n",
      "read DEC16FAKE2_2.xlsx successfully\n",
      "save figure successfully !\n",
      "read DEC16FAKE3_2.xlsx successfully\n",
      "save figure successfully !\n",
      "read DEC16FAKE4_2.xlsx successfully\n",
      "save figure successfully !\n",
      "read Demi-Gods and Semi-Devils.xlsx successfully\n",
      "save figure successfully !\n",
      "read Einstein.xlsx successfully\n",
      "save figure successfully !\n",
      "read Frog.xlsx successfully\n",
      "save figure successfully !\n",
      "read mix.xlsx successfully\n",
      "save figure successfully !\n",
      "read Moby-Dick.xlsx successfully\n",
      "save figure successfully !\n",
      "read news.xlsx successfully\n",
      "save figure successfully !\n",
      "read the-hoobit.xlsx successfully\n",
      "save figure successfully !\n",
      "read Xu Zhimo.xlsx successfully\n",
      "save figure successfully !\n",
      "read Yu Guangzhong.xlsx successfully\n",
      "save figure successfully !\n"
     ]
    }
   ],
   "source": [
    "main()"
   ]
  }
 ],
 "metadata": {
  "anaconda-cloud": {},
  "kernelspec": {
   "display_name": "Python [default]",
   "language": "python",
   "name": "python3"
  },
  "language_info": {
   "codemirror_mode": {
    "name": "ipython",
    "version": 3
   },
   "file_extension": ".py",
   "mimetype": "text/x-python",
   "name": "python",
   "nbconvert_exporter": "python",
   "pygments_lexer": "ipython3",
   "version": "3.5.2"
  }
 },
 "nbformat": 4,
 "nbformat_minor": 1
}
