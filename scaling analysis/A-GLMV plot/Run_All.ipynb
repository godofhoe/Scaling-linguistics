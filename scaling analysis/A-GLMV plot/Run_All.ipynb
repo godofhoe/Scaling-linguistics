{
 "cells": [
  {
   "cell_type": "code",
   "execution_count": 1,
   "metadata": {
    "collapsed": false
   },
   "outputs": [],
   "source": [
    "import os, sys\n",
    "import py\n",
    "from Module.mutili import *"
   ]
  },
  {
   "cell_type": "code",
   "execution_count": 2,
   "metadata": {
    "collapsed": false
   },
   "outputs": [],
   "source": [
    "def data_list(path):\n",
    "    data_load = []\n",
    "    for i in os.listdir(path):\n",
    "        j = i.split('.')\n",
    "        if 'xlsx' or 'csv' in j:\n",
    "            data_load.append(i)\n",
    "    return data_load"
   ]
  },
  {
   "cell_type": "code",
   "execution_count": 3,
   "metadata": {
    "collapsed": false
   },
   "outputs": [
    {
     "name": "stdout",
     "output_type": "stream",
     "text": [
      "400k.xlsx\n",
      "800k.xlsx\n",
      "Chang Show-Foong.xlsx\n",
      "Frog.xlsx\n",
      "Mandarin Duck Blades.xlsx\n",
      "The Scholar.xlsx\n"
     ]
    }
   ],
   "source": [
    "#The path of 'data' document\n",
    "data_path = 'C:/Users/gmking/Documents/GitHub/2018_Apil_17_collocation/A-GLMV plot/data'\n",
    "\n",
    "EXCEL_path = data_path + '/EXCEL/'                   #put your execl here\n",
    "#----------------------------------------------------------------------\n",
    "AGLMV_path = data_path + '/AGLMV/'                   #the output document of rf plot\n",
    "\n",
    "\n",
    "data_load = data_list(EXCEL_path)\n",
    "EXCEL_load = [EXCEL_path + i for i in data_load]\n",
    "for i in data_load:\n",
    "    print(i)"
   ]
  },
  {
   "cell_type": "code",
   "execution_count": 4,
   "metadata": {
    "collapsed": true
   },
   "outputs": [],
   "source": [
    "def main():\n",
    "    for Q in range(len(data_load)):\n",
    "        filename = data_load[Q]\n",
    "        name = filename.split('.')[0]\n",
    "        df = read_EXCEL(filename, EXCEL_load[Q])\n",
    "        \n",
    "        \n",
    "        SP = 'T' #If you don't want to save picture, just assign SP != 'T'.\n",
    "        FORMAT = 'png' #the format of your picture\n",
    "        AGLMV(name, SP, FORMAT, df, filename, AGLMV_path)"
   ]
  },
  {
   "cell_type": "code",
   "execution_count": 5,
   "metadata": {
    "collapsed": false
   },
   "outputs": [
    {
     "name": "stdout",
     "output_type": "stream",
     "text": [
      "read 400k.xlsx successfully\n",
      "save figure successfully !\n",
      "read 800k.xlsx successfully\n",
      "save figure successfully !\n",
      "read Chang Show-Foong.xlsx successfully\n",
      "save figure successfully !\n",
      "read Frog.xlsx successfully\n",
      "save figure successfully !\n",
      "read Mandarin Duck Blades.xlsx successfully\n",
      "save figure successfully !\n",
      "read The Scholar.xlsx successfully\n",
      "save figure successfully !\n"
     ]
    }
   ],
   "source": [
    "main()"
   ]
  }
 ],
 "metadata": {
  "anaconda-cloud": {},
  "kernelspec": {
   "display_name": "Python [default]",
   "language": "python",
   "name": "python3"
  },
  "language_info": {
   "codemirror_mode": {
    "name": "ipython",
    "version": 3
   },
   "file_extension": ".py",
   "mimetype": "text/x-python",
   "name": "python",
   "nbconvert_exporter": "python",
   "pygments_lexer": "ipython3",
   "version": "3.5.2"
  }
 },
 "nbformat": 4,
 "nbformat_minor": 1
}
