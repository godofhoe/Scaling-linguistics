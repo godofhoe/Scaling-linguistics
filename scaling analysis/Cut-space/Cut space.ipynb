{
 "cells": [
  {
   "cell_type": "code",
   "execution_count": 17,
   "metadata": {
    "collapsed": false
   },
   "outputs": [],
   "source": [
    "def cut_space(filename, encode = 'utf-8'):\n",
    "    '''\n",
    "    cut space in txt file to be raw data\n",
    "    \n",
    "    ----paras:\n",
    "    filename: full file name including attachment name\n",
    "    encode: encode of your txt, the default is utf-8\n",
    "    '''\n",
    "    with open(filename, 'r', encoding = encode) as file:\n",
    "        new = filename.split('.txt')[0] + '-fill.txt'\n",
    "        with open(new, 'w', encoding = encode) as newfile:\n",
    "            for line in file:\n",
    "                l = line.split()\n",
    "                a = ''\n",
    "                for i in l:\n",
    "                    a = a + i\n",
    "                newfile.write(a)"
   ]
  },
  {
   "cell_type": "code",
   "execution_count": 18,
   "metadata": {
    "collapsed": false
   },
   "outputs": [],
   "source": [
    "cut_space('Train-utf8.txt', encode = 'utf-8')"
   ]
  },
  {
   "cell_type": "code",
   "execution_count": null,
   "metadata": {
    "collapsed": true
   },
   "outputs": [],
   "source": []
  }
 ],
 "metadata": {
  "anaconda-cloud": {},
  "kernelspec": {
   "display_name": "Python [default]",
   "language": "python",
   "name": "python3"
  },
  "language_info": {
   "codemirror_mode": {
    "name": "ipython",
    "version": 3
   },
   "file_extension": ".py",
   "mimetype": "text/x-python",
   "name": "python",
   "nbconvert_exporter": "python",
   "pygments_lexer": "ipython3",
   "version": "3.5.2"
  }
 },
 "nbformat": 4,
 "nbformat_minor": 1
}
