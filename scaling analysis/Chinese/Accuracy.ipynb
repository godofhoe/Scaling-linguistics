{
 "cells": [
  {
   "cell_type": "code",
   "execution_count": 1,
   "metadata": {
    "collapsed": true
   },
   "outputs": [],
   "source": [
    "import os, sys\n",
    "import pandas as pd\n",
    "import matplotlib.pyplot as plt"
   ]
  },
  {
   "cell_type": "code",
   "execution_count": 2,
   "metadata": {
    "collapsed": true
   },
   "outputs": [],
   "source": [
    "def data_list(path):\n",
    "    data_load = []\n",
    "    for i in os.listdir(path):\n",
    "        j = i.split('.')\n",
    "        if 'xlsx' in j:\n",
    "            data_load.append(i)\n",
    "    return data_load"
   ]
  },
  {
   "cell_type": "code",
   "execution_count": 3,
   "metadata": {
    "collapsed": false
   },
   "outputs": [],
   "source": [
    "#the excel file should be .xlsx\n",
    "data_path = './Accuracy' #The path of 'data' folder\n",
    "excel_path = data_path + '/excel/'                   #put your excel here\n",
    "\n",
    "data_load = data_list(excel_path)\n",
    "excel_load = [excel_path + i for i in data_load]\n",
    "read = {}\n",
    "for i in data_load:\n",
    "    if 'standard' in i:\n",
    "        read['standard'] = pd.read_excel(excel_path + i, 'word')\n",
    "    else:\n",
    "        read[i] = pd.read_excel(excel_path + i, 'word')"
   ]
  },
  {
   "cell_type": "code",
   "execution_count": 4,
   "metadata": {
    "collapsed": false,
    "scrolled": true
   },
   "outputs": [
    {
     "name": "stdout",
     "output_type": "stream",
     "text": [
      "{'frog ctb.xlsx': 0.72687152959901613, 'frog pku.xlsx': 0.67071207654325449}\n"
     ]
    }
   ],
   "source": [
    "Acc = {} #Accuracy of different algorithm\n",
    "Lee = 0 #total number of word in standard\n",
    "for f in read['standard']['wordFreq']:\n",
    "    Lee = Lee + f\n",
    "\n",
    "for i in read:\n",
    "    read['standard'].reset_index(inplace=True)\n",
    "    if i != 'standard':\n",
    "        si = set(read[i]['word'])\n",
    "        st = set(read['standard']['word'])\n",
    "        same = si & st #the set of same word \n",
    "        read[i].set_index('word' , inplace=True)\n",
    "        read['standard'].set_index('word' , inplace=True)\n",
    "        accuracy = {} #number of same word in i\n",
    "        for w in same:\n",
    "            if read[i].loc[w , 'wordFreq'] >= read['standard'].loc[w , 'wordFreq']:\n",
    "                accuracy[w] = read['standard'].loc[w , 'wordFreq']\n",
    "            else :\n",
    "                accuracy[w] = read[i].loc[w , 'wordFreq']\n",
    "        sample = 0\n",
    "        for f in accuracy:\n",
    "            sample = sample + accuracy[f]\n",
    "        Acc[i] = sample / Lee\n",
    "print(Acc)"
   ]
  }
 ],
 "metadata": {
  "anaconda-cloud": {},
  "kernelspec": {
   "display_name": "Python [conda root]",
   "language": "python",
   "name": "conda-root-py"
  },
  "language_info": {
   "codemirror_mode": {
    "name": "ipython",
    "version": 3
   },
   "file_extension": ".py",
   "mimetype": "text/x-python",
   "name": "python",
   "nbconvert_exporter": "python",
   "pygments_lexer": "ipython3",
   "version": "3.5.2"
  }
 },
 "nbformat": 4,
 "nbformat_minor": 1
}
